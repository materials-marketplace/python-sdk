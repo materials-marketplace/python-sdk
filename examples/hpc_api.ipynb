{
 "cells": [
  {
   "cell_type": "code",
   "execution_count": null,
   "metadata": {},
   "outputs": [],
   "source": [
    "from marketplace.app.v0_0_1.hpc_app import HpcGatewayApp\r\n",
    "import os\r\n",
    "\r\n",
    "# Setting the client_id of the hpc app and pass the access_token to using the app through SDK\r\n",
    "hpc = HpcGatewayApp(client_id=\"<client_id>\",\r\n",
    "                    access_token=os.environ.get('MP_ACCESS_TOKEN'))"
   ]
  },
  {
   "cell_type": "code",
   "execution_count": null,
   "metadata": {},
   "outputs": [],
   "source": [
    "# The heartbeat capability to show the state of server and the HPC resource\n",
    "print(hpc.heartbeat())"
   ]
  },
  {
   "cell_type": "markdown",
   "metadata": {},
   "source": [
    "## initialize a new job\n",
    "\n",
    "using capability `new_trasformation`, the app create a folder under the user repository path in the remote HPC resource. \n",
    "The remote path name is returned for futher files transfor operations and as `transformation_id` for job submission."
   ]
  },
  {
   "cell_type": "code",
   "execution_count": null,
   "metadata": {},
   "outputs": [],
   "source": [
    "# The resource_id returned will be the remote path\n",
    "resourceid = hpc.new_job(config=None)\n",
    "print(resourceid)"
   ]
  },
  {
   "cell_type": "code",
   "execution_count": null,
   "metadata": {},
   "outputs": [],
   "source": [
    "!ssh daint.cscs.ch \"cd /scratch/snx3000/jyu/firecrest/jusong_yu/ && ls -l\""
   ]
  },
  {
   "cell_type": "markdown",
   "metadata": {},
   "source": [
    "# Upload input files and slurm job script to the path\n",
    "\n",
    "The capabilities `updateDataset`, `getDataset` and `deleteDataset` are for upload, download and delete files on remote path.\n",
    "\n",
    "However, instead of remote path only it is also require to pass filename to manipulate the files which is not completely compatible with the initial designs of these capabilities which are for database in the first place. \n",
    "I hack it a bit to pass the filename by a json object."
   ]
  },
  {
   "cell_type": "code",
   "execution_count": null,
   "metadata": {},
   "outputs": [],
   "source": [
    "cmd = f'ls -l /scratch/snx3000/jyu/firecrest/jusong_yu/{resourceid}'\n",
    "!ssh daint.cscs.ch $cmd"
   ]
  },
  {
   "cell_type": "code",
   "execution_count": null,
   "metadata": {},
   "outputs": [],
   "source": [
    "! head -n 10 ./sample_files/colloid.in"
   ]
  },
  {
   "cell_type": "code",
   "execution_count": null,
   "metadata": {},
   "outputs": [],
   "source": [
    "# send LAMMPS input file and job script to remote folder\n",
    "hpc.upload(resourceid=resourceid, source_path='./sample_files/colloid.in')\n",
    "hpc.upload(resourceid=resourceid, source_path='./sample_files/submit.sh')"
   ]
  },
  {
   "cell_type": "code",
   "execution_count": null,
   "metadata": {},
   "outputs": [],
   "source": [
    "cmd = f'ls -l /scratch/snx3000/jyu/firecrest/jusong_yu/{resourceid}'\n",
    "!ssh daint.cscs.ch $cmd"
   ]
  },
  {
   "cell_type": "code",
   "execution_count": null,
   "metadata": {},
   "outputs": [],
   "source": [
    "# download the file\n",
    "content = hpc.download(resourceid=resourceid, filename='submit.sh')\n",
    "print(content)"
   ]
  },
  {
   "cell_type": "markdown",
   "metadata": {},
   "source": [
    "## Submit job and check the jobs list\n",
    "\n",
    "`start_transformation` corresponding to capability `startTransformation` which will do actuall job submit into the scheduler system and return the job info.\n",
    "Then I can using `get_transformation_list` to retrieve all the jobs of current user in remote resource.\n"
   ]
  },
  {
   "cell_type": "code",
   "execution_count": null,
   "metadata": {},
   "outputs": [],
   "source": [
    "import json\n",
    "\n",
    "jblst = hpc.list_job()\n",
    "print(json.dumps(jblst, indent=2))"
   ]
  },
  {
   "cell_type": "code",
   "execution_count": null,
   "metadata": {},
   "outputs": [],
   "source": [
    "rsp = hpc.run_job(resourceid=resourceid)\n",
    "print(rsp)"
   ]
  },
  {
   "cell_type": "code",
   "execution_count": null,
   "metadata": {},
   "outputs": [],
   "source": [
    "jblst = hpc.list_job()\n",
    "print(jblst)"
   ]
  },
  {
   "cell_type": "code",
   "execution_count": null,
   "metadata": {},
   "outputs": [],
   "source": [
    "# resource_id = 'f1701e07-7e48-4b53-a915-6e0a9caad4cf'\n",
    "cmd = f\"cat /scratch/snx3000/jyu/firecrest/jusong_yu/{resourceid}/log.lammps\"\n",
    "!ssh daint.cscs.ch $cmd"
   ]
  },
  {
   "cell_type": "code",
   "execution_count": null,
   "metadata": {},
   "outputs": [],
   "source": [
    "# download the file\n",
    "content = hpc.download(resourceid=resourceid, filename='log.lammps')\n",
    "print(content)"
   ]
  },
  {
   "cell_type": "code",
   "execution_count": null,
   "metadata": {},
   "outputs": [],
   "source": []
  }
 ],
 "metadata": {
  "interpreter": {
   "hash": "ff44bf46afe16611456f7c915984caf83c9aa021617754637634791ae1e9af16"
  },
  "kernelspec": {
   "display_name": "Python 3.9.7 ('hpc-app')",
   "language": "python",
   "name": "python3"
  },
  "language_info": {
   "codemirror_mode": {
    "name": "ipython",
    "version": 3
   },
   "file_extension": ".py",
   "mimetype": "text/x-python",
   "name": "python",
   "nbconvert_exporter": "python",
   "pygments_lexer": "ipython3",
   "version": "3.9.7"
  },
  "orig_nbformat": 4
 },
 "nbformat": 4,
 "nbformat_minor": 2
}
